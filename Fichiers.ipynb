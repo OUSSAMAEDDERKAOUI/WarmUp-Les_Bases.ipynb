{
 "cells": [
  {
   "cell_type": "markdown",
   "id": "784cad32",
   "metadata": {},
   "source": [
    "\n",
    "<center>\n",
    "<H1><span style=\"text-align: center; font-weight: bold; color: #746bb3ff;\">Gestion de Fichiers</span></H1>\n",
    "</center>"
   ]
  },
  {
   "cell_type": "markdown",
   "id": "00451f59",
   "metadata": {},
   "source": [
    "<H3><span style=\"font-weight: bold ; color: #19b7f1ff\">Les ressources: </span></H3> \n",
    "\n",
    "* [Documentation Officielle de Python](https://docs.python.org/fr/3/tutorial/inputoutput.html#reading-and-writing-files)\n",
    "* [Reading and Writing Files in Python](https://realpython.com/read-write-files-python/)"
   ]
  },
  {
   "cell_type": "code",
   "execution_count": null,
   "id": "2465aff7",
   "metadata": {},
   "outputs": [],
   "source": []
  },
  {
   "cell_type": "markdown",
   "id": "3d2ea4b9",
   "metadata": {},
   "source": [
    "<H3><span style=\"font-weight: bold; color: #1a8bcdff;\">Challenge 1 : Extraction et Traitement de Fichiers</span></H3>\n",
    "\n",
    "1. <span style=\"font-weight: bold; color: #e56922ff;\">Objectif</span> : </br>\n",
    "Lire plusieurs fichiers texte et combiner leur contenu.\n",
    "\n",
    "2. <span style=\"font-weight: bold; color: #e56922ff;\">Travail à faire</span>:</br>\n",
    "* Utilisez os.listdir() pour lister tous les fichiers texte dans un répertoire.\n",
    "* Utilisez open() pour lire chaque fichier et extraire son contenu.\n",
    "* Combinez le contenu de tous les fichiers en un seul texte."
   ]
  },
  {
   "cell_type": "code",
   "execution_count": 15,
   "id": "21b6f2cb",
   "metadata": {},
   "outputs": [
    {
     "name": "stdout",
     "output_type": "stream",
     "text": [
      "['text.txt']\n",
      "le contenu de text.txt est : dsqsd\n",
      "le contenu complet de ce dossier est : dsqsd\n"
     ]
    }
   ],
   "source": [
    "#  Écrivez du code Python ici\n",
    "import os\n",
    "\n",
    "mon_dossier = \"./documents\"\n",
    "fichiers= os.listdir(mon_dossier)\n",
    "fichiers_text=[f for f in fichiers if f.endswith(\".txt\") ]\n",
    "print(fichiers_text)\n",
    "\n",
    "for f in fichiers_text :\n",
    "    chemin_complet=os.path.join(mon_dossier,f)\n",
    "\n",
    "    with open(chemin_complet,\"r\",encoding=\"utf-8\") as fichier_ouvert :\n",
    "        contenu=fichier_ouvert.read()\n",
    "\n",
    "    print(f\"le contenu de {f} est : {contenu}\")\n",
    "\n",
    "contenu_complet=\"\"\n",
    "for fichier in fichiers_text:\n",
    "    chemin_complet=os.path.join(mon_dossier,fichier)\n",
    "    with open(chemin_complet,\"r\",encoding=\"utf-8\") as fichier_ouvert :\n",
    "        contenu_complet += fichier_ouvert.read()\n",
    "print(\"le contenu complet de ce dossier est :\",contenu_complet)\n",
    "\n",
    "\n",
    "   \n"
   ]
  },
  {
   "cell_type": "markdown",
   "id": "5240bc4e",
   "metadata": {},
   "source": [
    "<H3><span style=\"font-weight: bold; color: #1a8bcdff;\">Challenge 2 : Recherche de Fichiers</span></H3>\n",
    "\n",
    "1. <span style=\"font-weight: bold; color: #e56922ff;\">Objectif</span> : </br>\n",
    "Vérifier l'existence de fichiers spécifiques et les traiter.\n",
    "\n",
    "2. <span style=\"font-weight: bold; color: #e56922ff;\">Travail à faire</span>:</br>\n",
    "* Utilisez os.path.exists() pour vérifier si des fichiers de configuration (config.yaml) existent dans un répertoire donné.\n",
    "* Si le fichier existe, ouvrez-le et affichez son contenu."
   ]
  },
  {
   "cell_type": "code",
   "execution_count": null,
   "id": "f6b212ee",
   "metadata": {},
   "outputs": [],
   "source": [
    "dossier=\"./documents\"\n",
    "fichiers=os.listdir(dossier)\n",
    "fichier_a_verifier= \"config.yaml\"\n",
    "path_complet=os.path.join(dossier,fichier_a_verifier)\n",
    "if os.path.exists(path_complet) :\n",
    "    with open(path_complet,\"r\",encoding=\"utf-8\") as fichier_ouvert:\n",
    "        contenu =fichier_ouvert.read()\n",
    "    print(contenu)\n",
    "else:\n",
    "    print(\"le fichier n'existe pas de ce répetoire\")\n",
    "\n",
    "\n",
    "\n",
    "\n",
    "\n"
   ]
  },
  {
   "cell_type": "markdown",
   "id": "c9850348",
   "metadata": {},
   "source": [
    "<H3><span style=\"font-weight: bold; color: #1a8bcdff;\">Challenge 4 : Création de Répertoires</span></H3>\n",
    "\n",
    "1. <span style=\"font-weight: bold; color: #e56922ff;\">Objectif</span> : </br>\n",
    "Créer une structure de répertoires à partir d'une liste de noms.\n",
    "\n",
    "2. <span style=\"font-weight: bold; color: #e56922ff;\">Travail à faire</span>:</br>\n",
    "* Utilisez os.mkdir() pour créer un répertoire principal.\n",
    "* Créez plusieurs sous-répertoires à l'intérieur du répertoire principal en utilisant une liste de noms."
   ]
  },
  {
   "cell_type": "code",
   "execution_count": null,
   "id": "ee3e6168",
   "metadata": {},
   "outputs": [],
   "source": [
    "import os\n",
    "dossier_principal=\"new_repo\"\n",
    "sous_repo =[\"f1\",\"f2\",\"f3\",\"f4\"]\n",
    "if not os.path.exists(dossier):\n",
    "    os.mkdir(dossier_principal)\n",
    "else :\n",
    "    print(\"le nom de dossier deja exist\")    \n",
    "for f in sous_repo:\n",
    "        path_complet=os.path.join(dossier,f)\n",
    "        if not os.path.exists(path_complet):\n",
    "            os.mkdir(path_complet)"
   ]
  },
  {
   "cell_type": "markdown",
   "id": "70d5c0f1",
   "metadata": {},
   "source": [
    "<H3><span style=\"font-weight: bold; color: #1a8bcdff;\">Challenge 5 : Copie Sélective de Fichiers</span></H3>\n",
    "\n",
    "1. <span style=\"font-weight: bold; color: #e56922ff;\">Objectif</span> : </br>\n",
    "Copier des fichiers spécifiques d'un répertoire à un autre.\n",
    "\n",
    "2. <span style=\"font-weight: bold; color: #e56922ff;\">Travail à faire</span>:</br>\n",
    "* Utilisez os.listdir() pour lister tous les fichiers dans un répertoire source.\n",
    "* Utilisez shutil.copy() pour copier uniquement les fichiers avec une extension spécifique (par exemple, .csv) vers un répertoire de destination."
   ]
  },
  {
   "cell_type": "code",
   "execution_count": null,
   "id": "37732559",
   "metadata": {},
   "outputs": [
    {
     "ename": "NameError",
     "evalue": "name 'chemin' is not defined",
     "output_type": "error",
     "traceback": [
      "\u001b[31m---------------------------------------------------------------------------\u001b[39m",
      "\u001b[31mNameError\u001b[39m                                 Traceback (most recent call last)",
      "\u001b[36mCell\u001b[39m\u001b[36m \u001b[39m\u001b[32mIn[24]\u001b[39m\u001b[32m, line 13\u001b[39m\n\u001b[32m     10\u001b[39m fichiers=os.listdir(source)\n\u001b[32m     11\u001b[39m \u001b[38;5;28;01mfor\u001b[39;00m f \u001b[38;5;129;01min\u001b[39;00m fichiers :\n\u001b[32m---> \u001b[39m\u001b[32m13\u001b[39m     \u001b[38;5;28;01mif\u001b[39;00m \u001b[43mchemin\u001b[49m.endswith(\u001b[33m\"\u001b[39m\u001b[33m.csv\u001b[39m\u001b[33m\"\u001b[39m):\n\u001b[32m     14\u001b[39m         chemin_source=os.path.join(source,f)\n\u001b[32m     15\u001b[39m         chemin_destination=os.path.join(destination,f)\n",
      "\u001b[31mNameError\u001b[39m: name 'chemin' is not defined"
     ]
    }
   ],
   "source": [
    "import os \n",
    "import shutil\n",
    "\n",
    "source=\"./documents\"\n",
    "destination=\"./destination\"\n",
    "\n",
    "if not os.path.exists(destination):\n",
    "    os.mkdir(destination)\n",
    "\n",
    "fichiers=os.listdir(source)\n",
    "for f in fichiers :\n",
    "\n",
    "    if f.endswith(\".csv\"):\n",
    "        chemin_source=os.path.join(source,f)\n",
    "        chemin_destination=os.path.join(destination,f)\n",
    "        shutil.copy(chemin_source,chemin_destination)\n",
    "\n",
    "\n",
    "\n",
    "\n",
    "\n",
    "\n"
   ]
  },
  {
   "cell_type": "markdown",
   "id": "860b9d43",
   "metadata": {},
   "source": [
    "<H3><span style=\"font-weight: bold; color: #1a8bcdff;\">Challenge 6 : Écriture de Fichiers</span></H3>\n",
    "\n",
    "1. <span style=\"font-weight: bold; color: #e56922ff;\">Objectif</span> : </br>\n",
    "Écrire du contenu dans un fichier texte.\n",
    "\n",
    "2. <span style=\"font-weight: bold; color: #e56922ff;\">Travail à faire</span>:</br>\n",
    "* Utilisez open() en mode écriture pour créer un nouveau fichier texte.\n",
    "* Écrivez des lignes de texte dans le fichier en utilisant une boucle.\n",
    "* Fermez le fichier et vérifiez que les données ont été correctement enregistrées."
   ]
  },
  {
   "cell_type": "code",
   "execution_count": 26,
   "id": "187f2423",
   "metadata": {},
   "outputs": [],
   "source": [
    "import os \n",
    "fichier=\"mon_fichier.txt\"\n",
    "lignes=[\"bonjour\",\"hola\",\"oussama\"]\n",
    "with open(fichier,\"w\",encoding=\"utf-8\")as fichier_ouvert:\n",
    "    for ligne in lignes :\n",
    "       fichier_ouvert.write(ligne)\n",
    "\n",
    "\n",
    "\n",
    "\n",
    "\n",
    "\n",
    "\n",
    "\n",
    "\n",
    "\n",
    "\n"
   ]
  },
  {
   "cell_type": "markdown",
   "id": "27cd8680",
   "metadata": {},
   "source": []
  }
 ],
 "metadata": {
  "kernelspec": {
   "display_name": "Python 3",
   "language": "python",
   "name": "python3"
  },
  "language_info": {
   "codemirror_mode": {
    "name": "ipython",
    "version": 3
   },
   "file_extension": ".py",
   "mimetype": "text/x-python",
   "name": "python",
   "nbconvert_exporter": "python",
   "pygments_lexer": "ipython3",
   "version": "3.13.7"
  }
 },
 "nbformat": 4,
 "nbformat_minor": 5
}

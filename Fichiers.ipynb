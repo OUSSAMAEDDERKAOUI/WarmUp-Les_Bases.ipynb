{
 "cells": [
  {
   "cell_type": "markdown",
   "id": "784cad32",
   "metadata": {},
   "source": [
    "\n",
    "<center>\n",
    "<H1><span style=\"text-align: center; font-weight: bold; color: #746bb3ff;\">Gestion de Fichiers</span></H1>\n",
    "</center>"
   ]
  },
  {
   "cell_type": "markdown",
   "id": "00451f59",
   "metadata": {},
   "source": [
    "<H3><span style=\"font-weight: bold ; color: #19b7f1ff\">Les ressources: </span></H3> \n",
    "\n",
    "* [Documentation Officielle de Python](https://docs.python.org/fr/3/tutorial/inputoutput.html#reading-and-writing-files)\n",
    "* [Reading and Writing Files in Python](https://realpython.com/read-write-files-python/)"
   ]
  },
  {
   "cell_type": "code",
   "execution_count": null,
   "id": "2465aff7",
   "metadata": {},
   "outputs": [],
   "source": []
  },
  {
   "cell_type": "markdown",
   "id": "3d2ea4b9",
   "metadata": {},
   "source": [
    "<H3><span style=\"font-weight: bold; color: #1a8bcdff;\">Challenge 1 : Extraction et Traitement de Fichiers</span></H3>\n",
    "\n",
    "1. <span style=\"font-weight: bold; color: #e56922ff;\">Objectif</span> : </br>\n",
    "Lire plusieurs fichiers texte et combiner leur contenu.\n",
    "\n",
    "2. <span style=\"font-weight: bold; color: #e56922ff;\">Travail à faire</span>:</br>\n",
    "* Utilisez os.listdir() pour lister tous les fichiers texte dans un répertoire.\n",
    "* Utilisez open() pour lire chaque fichier et extraire son contenu.\n",
    "* Combinez le contenu de tous les fichiers en un seul texte."
   ]
  },
  {
   "cell_type": "code",
   "execution_count": 15,
   "id": "21b6f2cb",
   "metadata": {},
   "outputs": [
    {
     "name": "stdout",
     "output_type": "stream",
     "text": [
      "['text.txt']\n",
      "le contenu de text.txt est : dsqsd\n",
      "le contenu complet de ce dossier est : dsqsd\n"
     ]
    }
   ],
   "source": [
    "#  Écrivez du code Python ici\n",
    "import os\n",
    "\n",
    "mon_dossier = \"./documents\"\n",
    "fichiers= os.listdir(mon_dossier)\n",
    "fichiers_text=[f for f in fichiers if f.endswith(\".txt\") ]\n",
    "print(fichiers_text)\n",
    "\n",
    "for f in fichiers_text :\n",
    "    chemin_complet=os.path.join(mon_dossier,f)\n",
    "\n",
    "    with open(chemin_complet,\"r\",encoding=\"utf-8\") as fichier_ouvert :\n",
    "        contenu=fichier_ouvert.read()\n",
    "\n",
    "    print(f\"le contenu de {f} est : {contenu}\")\n",
    "\n",
    "contenu_complet=\"\"\n",
    "for fichier in fichiers_text:\n",
    "    chemin_complet=os.path.join(mon_dossier,fichier)\n",
    "    with open(chemin_complet,\"r\",encoding=\"utf-8\") as fichier_ouvert :\n",
    "        contenu_complet += fichier_ouvert.read()\n",
    "print(\"le contenu complet de ce dossier est :\",contenu_complet)\n",
    "\n",
    "\n",
    "   \n"
   ]
  },
  {
   "cell_type": "markdown",
   "id": "5240bc4e",
   "metadata": {},
   "source": [
    "<H3><span style=\"font-weight: bold; color: #1a8bcdff;\">Challenge 2 : Recherche de Fichiers</span></H3>\n",
    "\n",
    "1. <span style=\"font-weight: bold; color: #e56922ff;\">Objectif</span> : </br>\n",
    "Vérifier l'existence de fichiers spécifiques et les traiter.\n",
    "\n",
    "2. <span style=\"font-weight: bold; color: #e56922ff;\">Travail à faire</span>:</br>\n",
    "* Utilisez os.path.exists() pour vérifier si des fichiers de configuration (config.yaml) existent dans un répertoire donné.\n",
    "* Si le fichier existe, ouvrez-le et affichez son contenu."
   ]
  },
  {
   "cell_type": "code",
   "execution_count": 20,
   "id": "fa5797e7",
   "metadata": {},
   "outputs": [
    {
     "name": "stdout",
     "output_type": "stream",
     "text": [
      "Le fichier config.yaml n'existe pas dans le dossier ./mon_dossier.\n"
     ]
    }
   ],
   "source": [
    "#  Écrivez du code Python ici\n",
    "import os\n",
    "\n",
    "dossier = \"./mon_dossier\"\n",
    "\n",
    "fichier_a_verifier = \"config.yaml\"\n",
    "\n",
    "chemin_complet = os.path.join(dossier, fichier_a_verifier)\n",
    "\n",
    "if os.path.exists(chemin_complet):\n",
    "    print(f\"Le fichier {fichier_a_verifier} existe.\")\n",
    "    with open(chemin_complet, \"r\", encoding=\"utf-8\") as fichier:\n",
    "        contenu = fichier.read()\n",
    "    print(\"Contenu du fichier :\",contenu, sep=\"\\n\")\n",
    "else:\n",
    "    print(f\"Le fichier {fichier_a_verifier} n'existe pas dans le dossier {dossier}.\")\n"
   ]
  },
  {
   "cell_type": "markdown",
   "id": "c9850348",
   "metadata": {},
   "source": [
    "<H3><span style=\"font-weight: bold; color: #1a8bcdff;\">Challenge 4 : Création de Répertoires</span></H3>\n",
    "\n",
    "1. <span style=\"font-weight: bold; color: #e56922ff;\">Objectif</span> : </br>\n",
    "Créer une structure de répertoires à partir d'une liste de noms.\n",
    "\n",
    "2. <span style=\"font-weight: bold; color: #e56922ff;\">Travail à faire</span>:</br>\n",
    "* Utilisez os.mkdir() pour créer un répertoire principal.\n",
    "* Créez plusieurs sous-répertoires à l'intérieur du répertoire principal en utilisant une liste de noms."
   ]
  },
  {
   "cell_type": "code",
   "execution_count": null,
   "id": "07f28968",
   "metadata": {},
   "outputs": [],
   "source": [
    "#  Écrivez du code Python ici\n",
    "import os\n",
    "\n",
    "repertoire_principal = \"MonProjet\"\n",
    "\n",
    "sous_repertoires = [\"docs\", \"src\", \"tests\", \"data\"]\n",
    "\n",
    "if not os.path.exists(repertoire_principal):\n",
    "    os.mkdir(repertoire_principal)\n",
    "    print(f\"Répertoire principal '{repertoire_principal}' créé.\")\n",
    "else:\n",
    "    print(f\"Répertoire principal '{repertoire_principal}' existe déjà.\")\n",
    "\n",
    "for sous_rep in sous_repertoires:\n",
    "    chemin = os.path.join(repertoire_principal, sous_rep)\n",
    "    if not os.path.exists(chemin):\n",
    "        os.mkdir(chemin)\n",
    "        print(f\"Sous-répertoire '{sous_rep}' créé dans '{repertoire_principal}'.\")\n",
    "    else:\n",
    "        print(f\"Sous-répertoire '{sous_rep}' existe déjà dans '{repertoire_principal}'.\")\n"
   ]
  },
  {
   "cell_type": "markdown",
   "id": "70d5c0f1",
   "metadata": {},
   "source": [
    "<H3><span style=\"font-weight: bold; color: #1a8bcdff;\">Challenge 5 : Copie Sélective de Fichiers</span></H3>\n",
    "\n",
    "1. <span style=\"font-weight: bold; color: #e56922ff;\">Objectif</span> : </br>\n",
    "Copier des fichiers spécifiques d'un répertoire à un autre.\n",
    "\n",
    "2. <span style=\"font-weight: bold; color: #e56922ff;\">Travail à faire</span>:</br>\n",
    "* Utilisez os.listdir() pour lister tous les fichiers dans un répertoire source.\n",
    "* Utilisez shutil.copy() pour copier uniquement les fichiers avec une extension spécifique (par exemple, .csv) vers un répertoire de destination."
   ]
  },
  {
   "cell_type": "code",
   "execution_count": null,
   "id": "d723fec4",
   "metadata": {},
   "outputs": [
    {
     "ename": "FileNotFoundError",
     "evalue": "[WinError 3] Le chemin d’accès spécifié est introuvable: './source'",
     "output_type": "error",
     "traceback": [
      "\u001b[31m---------------------------------------------------------------------------\u001b[39m",
      "\u001b[31mFileNotFoundError\u001b[39m                         Traceback (most recent call last)",
      "\u001b[36mCell\u001b[39m\u001b[36m \u001b[39m\u001b[32mIn[23]\u001b[39m\u001b[32m, line 13\u001b[39m\n\u001b[32m     10\u001b[39m     os.mkdir(destination_dir)\n\u001b[32m     11\u001b[39m     \u001b[38;5;28mprint\u001b[39m(\u001b[33mf\u001b[39m\u001b[33m\"\u001b[39m\u001b[33mLe dossier \u001b[39m\u001b[33m'\u001b[39m\u001b[38;5;132;01m{\u001b[39;00mdestination_dir\u001b[38;5;132;01m}\u001b[39;00m\u001b[33m'\u001b[39m\u001b[33m a été créé.\u001b[39m\u001b[33m\"\u001b[39m)\n\u001b[32m---> \u001b[39m\u001b[32m13\u001b[39m fichiers = \u001b[43mos\u001b[49m\u001b[43m.\u001b[49m\u001b[43mlistdir\u001b[49m\u001b[43m(\u001b[49m\u001b[43msource_dir\u001b[49m\u001b[43m)\u001b[49m\n\u001b[32m     15\u001b[39m \u001b[38;5;28;01mfor\u001b[39;00m fichier \u001b[38;5;129;01min\u001b[39;00m fichiers:\n\u001b[32m     16\u001b[39m     \u001b[38;5;28;01mif\u001b[39;00m fichier.endswith(\u001b[33m\"\u001b[39m\u001b[33m.csv\u001b[39m\u001b[33m\"\u001b[39m):\n",
      "\u001b[31mFileNotFoundError\u001b[39m: [WinError 3] Le chemin d’accès spécifié est introuvable: './source'"
     ]
    }
   ],
   "source": [
    "#  Écrivez du code Python ici\n",
    "\n",
    "import os\n",
    "import shutil\n",
    "\n",
    "source_dir = \"./source\"\n",
    "destination_dir = \"./destination\"\n",
    "\n",
    "if not os.path.exists(destination_dir):\n",
    "    os.mkdir(destination_dir)\n",
    "    print(f\"Le dossier '{destination_dir}' a été créé.\")\n",
    "\n",
    "fichiers = os.listdir(source_dir)\n",
    "for fichier in fichiers:\n",
    "    if fichier.endswith(\".csv\"):\n",
    "        chemin_source = os.path.join(source_dir, fichier)\n",
    "        chemin_destination = os.path.join(destination_dir, fichier)\n",
    "        shutil.copy(chemin_source, chemin_destination)\n",
    "        print(f\"Fichier copié : {fichier}\")\n"
   ]
  },
  {
   "cell_type": "markdown",
   "id": "860b9d43",
   "metadata": {},
   "source": [
    "<H3><span style=\"font-weight: bold; color: #1a8bcdff;\">Challenge 6 : Écriture de Fichiers</span></H3>\n",
    "\n",
    "1. <span style=\"font-weight: bold; color: #e56922ff;\">Objectif</span> : </br>\n",
    "Écrire du contenu dans un fichier texte.\n",
    "\n",
    "2. <span style=\"font-weight: bold; color: #e56922ff;\">Travail à faire</span>:</br>\n",
    "* Utilisez open() en mode écriture pour créer un nouveau fichier texte.\n",
    "* Écrivez des lignes de texte dans le fichier en utilisant une boucle.\n",
    "* Fermez le fichier et vérifiez que les données ont été correctement enregistrées."
   ]
  },
  {
   "cell_type": "code",
   "execution_count": null,
   "id": "bacbe689",
   "metadata": {},
   "outputs": [],
   "source": [
    "#  Écrivez du code Python ici\n",
    "fichier_nom = \"mon_fichier.txt\"\n",
    "\n",
    "lignes = [\n",
    "    \"Bonjour, ceci est la première ligne.\\n\",\n",
    "    \"Voici la deuxième ligne.\\n\",\n",
    "    \"Et voici la troisième ligne.\\n\"\n",
    "]\n",
    "\n",
    "with open(fichier_nom, \"w\") as fichier:\n",
    "    for ligne in lignes:\n",
    "        fichier.write(ligne)\n",
    "\n",
    "print(f\"Le fichier '{fichier_nom}' a été créé et rempli avec succès.\")\n"
   ]
  },
  {
   "cell_type": "markdown",
   "id": "27cd8680",
   "metadata": {},
   "source": []
  }
 ],
 "metadata": {
  "kernelspec": {
   "display_name": "Python 3",
   "language": "python",
   "name": "python3"
  },
  "language_info": {
   "codemirror_mode": {
    "name": "ipython",
    "version": 3
   },
   "file_extension": ".py",
   "mimetype": "text/x-python",
   "name": "python",
   "nbconvert_exporter": "python",
   "pygments_lexer": "ipython3",
   "version": "3.13.7"
  }
 },
 "nbformat": 4,
 "nbformat_minor": 5
}

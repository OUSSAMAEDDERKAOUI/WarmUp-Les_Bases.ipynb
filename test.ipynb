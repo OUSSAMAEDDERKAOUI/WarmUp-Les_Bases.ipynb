{
 "cells": [
  {
   "cell_type": "code",
   "execution_count": 1,
   "id": "432b01d5",
   "metadata": {},
   "outputs": [
    {
     "name": "stdout",
     "output_type": "stream",
     "text": [
      "[12, 13, 6, 56, 68, 9]\n",
      "[1728, 2197, 216, 175616, 314432, 729]\n",
      "[-87, -32, -1, 6, 9, 12, 13, 56, 68]\n"
     ]
    }
   ],
   "source": [
    "nombres=[12,-32,13,6,-87,56,-1,68,9]\n",
    "nombres_positif=list(filter(lambda nombre : nombre>0 ,nombres))\n",
    "print(nombres_positif)\n",
    "calculer_cube=list(map(lambda note:note**3,nombres_positif))\n",
    "print(calculer_cube)\n",
    "nombres_tries=sorted(nombres)\n",
    "print(nombres_tries)"
   ]
  },
  {
   "cell_type": "code",
   "execution_count": null,
   "id": "1ed59a07",
   "metadata": {},
   "outputs": [],
   "source": []
  }
 ],
 "metadata": {
  "kernelspec": {
   "display_name": "Python 3",
   "language": "python",
   "name": "python3"
  },
  "language_info": {
   "codemirror_mode": {
    "name": "ipython",
    "version": 3
   },
   "file_extension": ".py",
   "mimetype": "text/x-python",
   "name": "python",
   "nbconvert_exporter": "python",
   "pygments_lexer": "ipython3",
   "version": "3.13.7"
  }
 },
 "nbformat": 4,
 "nbformat_minor": 5
}

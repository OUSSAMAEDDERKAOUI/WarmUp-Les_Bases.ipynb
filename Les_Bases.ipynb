{
 "cells": [
  {
   "cell_type": "markdown",
   "id": "6b58fb7c",
   "metadata": {},
   "source": [
    "<center>\n",
    "<H1><span style=\"text-align: center; font-weight: bold; color: #746bb3ff;\">Les Bases De Python</span></H1>\n",
    "</center>"
   ]
  },
  {
   "cell_type": "markdown",
   "id": "b2e95ccf",
   "metadata": {},
   "source": [
    "<code>*Dans ces labs, vous découvrirez et maîtriserez les fondamentaux du langage Python, notamment la syntaxe de base, les types de données, les structures de contrôle (conditions, boucles), les fonctions et la gestion des modules. Vous apprendrez également à manipuler des collections (listes, dictionnaires, ensembles), à lire et écrire des fichiers, et à utiliser les environnements virtuels. Ces compétences vous permettront de développer vos premiers scripts et d’acquérir une base solide pour aborder des projets plus avancés en intelligence artificielle et en science des données.*</code>"
   ]
  },
  {
   "cell_type": "markdown",
   "id": "8333f40b",
   "metadata": {},
   "source": [
    "<H3><span style=\"font-weight: bold ; color: #19b7f1ff\">Les ressources: </span></H3> \n",
    "\n",
    "\n",
    "- **Conditions** : \n",
    "* [Python if/else Statements (Real Python)](https://realpython.com/python-conditional-statements/)  \n",
    "*  [Documentation officielle – if](https://docs.python.org/fr/3/tutorial/controlflow.html#if-statements-and-expressions)\n",
    "\n",
    "- **Boucles** : \n",
    "* [Python Loops (Real Python)](https://realpython.com/python-for-loop/)  \n",
    "*  [Documentation officielle – for](https://docs.python.org/fr/3/tutorial/controlflow.html#for-statements)\n",
    "\n",
    "- **Try/Except** : \n",
    "* [Python Exceptions (Real Python)](https://realpython.com/python-exceptions/)  \n",
    "*  [Documentation officielle – exceptions](https://docs.python.org/fr/3/tutorial/errors.html#handling-exceptions)\n"
   ]
  },
  {
   "cell_type": "markdown",
   "id": "ab1d155d",
   "metadata": {},
   "source": [
    "<H3><span style=\"font-weight: bold; color: #1a8bcdff;\">Challenge 1 : Présentation personnalisée</span></H3>\n",
    "\n",
    "1. <span style=\"font-weight: bold; color: #e56922ff;\">Objectif</span> : </br>\n",
    "Apprendre à utiliser la fonction input() pour interagir avec l’utilisateur et afficher une sortie personnalisée avec print().\n",
    "\n",
    "2. <span style=\"font-weight: bold; color: #e56922ff;\">Travail à faire</span>:</br>\n",
    "Écris un programme qui demande à l’utilisateur son prénom et son âge, puis affiche un message personnalisé indiquant son prénom et son âge."
   ]
  },
  {
   "cell_type": "code",
   "execution_count": 1,
   "id": "751431f3",
   "metadata": {},
   "outputs": [
    {
     "ename": "ValueError",
     "evalue": "invalid literal for int() with base 10: ''",
     "output_type": "error",
     "traceback": [
      "\u001b[31m---------------------------------------------------------------------------\u001b[39m",
      "\u001b[31mValueError\u001b[39m                                Traceback (most recent call last)",
      "\u001b[36mCell\u001b[39m\u001b[36m \u001b[39m\u001b[32mIn[1]\u001b[39m\u001b[32m, line 3\u001b[39m\n\u001b[32m      1\u001b[39m \u001b[38;5;66;03m#  Écrivez du code Python ici\u001b[39;00m\n\u001b[32m      2\u001b[39m prenom = \u001b[38;5;28minput\u001b[39m(\u001b[33m\"\u001b[39m\u001b[33mveuillez entrez votre prenom : \u001b[39m\u001b[33m\"\u001b[39m)\n\u001b[32m----> \u001b[39m\u001b[32m3\u001b[39m age = \u001b[38;5;28;43mint\u001b[39;49m\u001b[43m(\u001b[49m\u001b[38;5;28;43minput\u001b[39;49m\u001b[43m(\u001b[49m\u001b[33;43m\"\u001b[39;49m\u001b[33;43mveuillez entrez votre age : \u001b[39;49m\u001b[33;43m\"\u001b[39;49m\u001b[43m)\u001b[49m\u001b[43m)\u001b[49m\n\u001b[32m      4\u001b[39m \u001b[38;5;28mprint\u001b[39m(\u001b[33mf\u001b[39m\u001b[33m\"\u001b[39m\u001b[33mvotre prenom \u001b[39m\u001b[38;5;132;01m{\u001b[39;00mprenom\u001b[38;5;132;01m}\u001b[39;00m\u001b[33m et votre age est \u001b[39m\u001b[38;5;132;01m{\u001b[39;00mage\u001b[38;5;132;01m}\u001b[39;00m\u001b[33m ans n\u001b[39m\u001b[33m'\u001b[39m\u001b[33mest-ce pas !!!\u001b[39m\u001b[33m\"\u001b[39m)\n",
      "\u001b[31mValueError\u001b[39m: invalid literal for int() with base 10: ''"
     ]
    }
   ],
   "source": [
    "#  Écrivez du code Python ici\n",
    "prenom = input(\"veuillez entrez votre prenom : \")\n",
    "age = int(input(\"veuillez entrez votre age : \"))\n",
    "print(f\"votre prenom {prenom} et votre age est {age} ans n'est-ce pas !!!\")\n",
    "\n",
    "\n"
   ]
  },
  {
   "cell_type": "markdown",
   "id": "e313a8c6",
   "metadata": {},
   "source": [
    "<H3><span style=\"font-weight: bold; color: #1a8bcdff;\">Challenge  2 : Calcul de salaire avec heures supplémentaires</span></H3>\n",
    "\n",
    "1. <span style=\"font-weight: bold; color: #e56922ff;\">Objectif</span> : </br>\n",
    "Travailler la saisie de données utilisateur, les conversions de types, les conditions (if), et les opérations arithmétiques pour simuler un cas réel de calcul de paie. \n",
    "\n",
    "2. <span style=\"font-weight: bold; color: #e56922ff;\">Travail à faire</span>:</br>\n",
    "* Écris un programme qui récupère les informations suivantes depuis l’entrée utilisateur : son nom, son salaire horaire et le nombre d’heures qu’il a travaillées.\n",
    "* Si le nombre d’heures travaillées dépasse 40 heures, les heures au-delà de 40 seront considérées comme des heures supplémentaires et rémunérées à 1,5 fois le salaire horaire normal.\n",
    "* Le programme doit alors calculer le salaire total (salaire régulier + éventuelles heures supplémentaires).\n",
    "Enfin, affiche le nom de l’utilisateur ainsi que son salaire total calculé."
   ]
  },
  {
   "cell_type": "code",
   "execution_count": null,
   "id": "9f7667a8",
   "metadata": {},
   "outputs": [],
   "source": [
    "#  Écrivez du code Python ici\n",
    "print(\"veuillez entrer votre nom : \")\n",
    "nom = input()\n",
    "print(\"veuillez entrer votre  nombre des heures : \")\n",
    "heures= int(input())\n",
    "print(\"veuillez entrer le prix normal par heure : \")\n",
    "prix = float(input())\n",
    "\n",
    "if heures>40 :\n",
    "    salaire= (40*prix)+((heures-40)*prix*1.5)\n",
    "else :\n",
    "        salaire= (40*prix)\n",
    "\n",
    "print(f\"bonjour {nom} votre salaire de cette semmaine est {salaire}\")\n",
    "\n",
    "\n",
    "\n",
    "\n"
   ]
  },
  {
   "cell_type": "markdown",
   "id": "9e2e052e",
   "metadata": {},
   "source": [
    "<H3><span style=\"font-weight: bold; color: #1a8bcdff;\">Challenge 3 :  Gestion des erreurs utilisateur</span></H3>\n",
    "\n",
    "1. <span style=\"font-weight: bold; color: #e56922ff;\">Objectif</span> : </br>\n",
    "Introduire les blocs try / except afin de rendre le programme plus robuste face aux erreurs de saisie (par exemple, texte au lieu de nombres).\n",
    "\n",
    "\n",
    "2. <span style=\"font-weight: bold; color: #e56922ff;\">Travail à faire</span>:</br>\n",
    "Réécris ton programme de calcul de salaire en utilisant try et except afin que le programme gère proprement les entrées non numériques en affichant un message d’erreur puis en quittant le programme."
   ]
  },
  {
   "cell_type": "code",
   "execution_count": null,
   "id": "a83ebcec",
   "metadata": {},
   "outputs": [],
   "source": [
    "#  Écrivez du code Python ici\n",
    "print(\"veuillez entrer votre nom : \")\n",
    "nom = input()\n",
    "try:\n",
    "    print(\"Veuillez entrer votre nombre d'heures : \")\n",
    "    heures = int(input()) \n",
    "    if heures<0 :\n",
    "        print(\"le nombre des heures ne doit pas etre negatif :\")\n",
    "        exit()\n",
    "except ValueError:\n",
    "    print(\"Vous devez entrer un nombre entier valide pour les heures.\")\n",
    "    exit()\n",
    "try:\n",
    "    print(\"veuillez entrer le prix normal par heure : \")\n",
    "    prix = float(input())\n",
    "    if prix<0:\n",
    "         print(\"le prix doit etre > zero .\")\n",
    "         exit()\n",
    "\n",
    "except ValueError :\n",
    "    print(\"vous devez entrer un nombre  valide \")\n",
    "    exit()\n",
    "if heures>40 :\n",
    "    salaire= (40*prix)+((heures-40)*prix*1.5)\n",
    "else :\n",
    "        salaire= (40*prix)\n",
    "print(f\"bonjour {nom} votre salaire de cette semmaine est {salaire}\")"
   ]
  },
  {
   "cell_type": "markdown",
   "id": "7b34c3c1",
   "metadata": {},
   "source": [
    "<H3><span style=\"font-weight: bold; color: #1a8bcdff;\">Challenge 4 : Déterminer le signe d’un produit de deux nombres</span></H3>\n",
    "\n",
    "1. <span style=\"font-weight: bold; color: #e56922ff;\">Objectif</span> : </br>\n",
    " Amener l’apprenant à manipuler les entrées utilisateur, les conditions (if/elif/else) et la logique mathématique pour déterminer le signe du produit de deux nombres.\n",
    "\n",
    "\n",
    "2. <span style=\"font-weight: bold; color: #e56922ff;\">Travail à faire</span>:</br>\n",
    "Écrire un programme en Python qui demande à l'utilisateur deux nombres n1 et n2 et lui indique ensuite si le produit de ces deux nombres est positif ou négatif. On prévoit dans le programme le cas où le produit peut être nul."
   ]
  },
  {
   "cell_type": "code",
   "execution_count": null,
   "id": "fb5f00fc",
   "metadata": {},
   "outputs": [
    {
     "name": "stdout",
     "output_type": "stream",
     "text": [
      "{12: 1, 3: 2, 4: 1}\n"
     ]
    }
   ],
   "source": [
    "def occurence(liste):\n",
    "    n=len(liste)\n",
    "    dict1=dict()\n",
    "    for i in range(0,n):\n",
    "        count =0\n",
    "        for j in range(0,n):\n",
    "            if liste[i]==liste[j]:\n",
    "                count+=1\n",
    "                dict1[liste[i]]=count            \n",
    "        print(dict1)\n",
    "\n",
    "occurence([12,3,4,3])\n",
    "\n",
    "def occurence(liste):\n",
    "    dict1=dict()\n",
    "    \n",
    "    for el in liste:    \n",
    "        cou =liste.count(el)    \n",
    "        dict1[el]=cou              \n",
    "    print(dict1)\n",
    "\n",
    "occurence([12,3,4,3])\n",
    "\n"
   ]
  },
  {
   "cell_type": "code",
   "execution_count": null,
   "id": "91115272",
   "metadata": {},
   "outputs": [],
   "source": [
    "#  Écrivez du code Python ici\n",
    "\n",
    "n1 = float(input(\" veuillez entrer le premier nombre : \"))\n",
    "n2 = float(input(\" veuillez entrer le deuxième nombre : \"))\n",
    "if n1*n2<0:\n",
    "    print(\"le produit de ces deux nombre est négatif .\")\n",
    "elif n1*n2>0:\n",
    "    print(\"le produit de ces deux nombre est positif .\")\n",
    "elif n1 ==0 or n2==0:\n",
    "        print(\"le produit de ces deux nombre est nul .\")\n",
    "\n",
    "\n"
   ]
  },
  {
   "cell_type": "markdown",
   "id": "e765cc2b",
   "metadata": {},
   "source": [
    "<H3><span style=\"font-weight: bold; color: #1a8bcdff;\">Challenge 5 : Somme d’entiers</span></H3>\n",
    "\n",
    "1. <span style=\"font-weight: bold; color: #e56922ff;\">Objectif</span> : </br>\n",
    "Apprendre à utiliser la boucle while pour répéter une opération jusqu’à une condition donnée.\n",
    "\n",
    "\n",
    "2. <span style=\"font-weight: bold; color: #e56922ff;\">Travail à faire</span>:</br>\n",
    "Ecrivez un programme en Python qui calcule la somme de 1 à N, où N est saisi par l'utilisateur. En utilisant la boucle \"while\"."
   ]
  },
  {
   "cell_type": "code",
   "execution_count": null,
   "id": "0de1f6c4",
   "metadata": {},
   "outputs": [],
   "source": [
    "#  Écrivez du code Python ici\n",
    "while True:\n",
    "    try:\n",
    "        n = int(input(\"veulliez enter un nompre entier :\"))\n",
    "        while n < 0:\n",
    "            print(\"veulliez entrer un nombre positif\")\n",
    "            n = int(input(\"veulliez enter un nompre entier :\"))\n",
    "        break\n",
    "    except ValueError:\n",
    "        print(\"veulliez entrer un nombre \")\n",
    "\n",
    "i = 0\n",
    "s = 0\n",
    "while i <= n:\n",
    "    s += i\n",
    "    i += 1\n",
    "\n",
    "print(f\"la somme est {s}.\")\n",
    "\n"
   ]
  },
  {
   "cell_type": "markdown",
   "id": "7082952c",
   "metadata": {},
   "source": [
    "<H3><span style=\"font-weight: bold; color: #1a8bcdff;\">Challenge 6 : Inverser une chaîne</span></H3>\n",
    "\n",
    "1. <span style=\"font-weight: bold; color: #e56922ff;\">Objectif</span> : </br>\n",
    "Comprendre la manipulation de chaînes de caractères et l’usage de la boucle while pour parcourir une chaîne en sens inverse.\n",
    "\n",
    "\n",
    "2. <span style=\"font-weight: bold; color: #e56922ff;\">Travail à faire</span>:</br>\n",
    " * Écrire un programme en Python qui inverse une chaîne de caractères en utilisant une boucle while.\n",
    " * Écrire un programme en Python qui inverse une chaîne de caractères en utilisant une boucle while.\n",
    " * Exemple: Chaîne originale: DevAI ==>\n",
    "   Chaîne inversée: IAveD"
   ]
  },
  {
   "cell_type": "code",
   "execution_count": null,
   "id": "237de081",
   "metadata": {},
   "outputs": [],
   "source": [
    "\n"
   ]
  },
  {
   "cell_type": "code",
   "execution_count": null,
   "id": "814c2390",
   "metadata": {},
   "outputs": [],
   "source": [
    "#  Écrivez du code Python ici\n",
    "str = input(\"veuillez entrer votre chaine :\")\n",
    "newStr=''\n",
    "len=len(str)-1\n",
    "i=len\n",
    "while i>=0:\n",
    "    t=str[i]\n",
    "    newStr+=t\n",
    "    i-=1\n",
    "print(f\"la nouvelle chaine est {newStr}\")"
   ]
  },
  {
   "cell_type": "markdown",
   "id": "0c27da2e",
   "metadata": {},
   "source": [
    "<H3><span style=\"font-weight: bold; color: #1a8bcdff;\">Challenge 7 : Calcul de distance entre deux points</span></H3>\n",
    "\n",
    "1. <span style=\"font-weight: bold; color: #e56922ff;\">Objectif</span> : </br>\n",
    "Apprendre à manipuler les nombres flottants et à appliquer une formule mathématique en Python. Cet exercice permet d’utiliser l’entrée utilisateur <code>(input())</code>, la conversion de types <code>(float())</code>, et la fonction <code>math.sqrt()</code> pour calculer la distance euclidienne entre deux points \n",
    "<code>(x1,y1)(x1​,y1​)</code> et <code>(x2,y2)(x2​,y2​)</code>.\n",
    "\n",
    "2. <span style=\"font-weight: bold; color: #e56922ff;\">Travail à faire</span>:</br>\n",
    "Écrire un programme Python pour calculer la distance entre deux points. \n",
    "\n",
    "$$\n",
    "\\sqrt{(x_2 - x_1)^2 + (y_2 - y_1)^2}\n",
    "$$"
   ]
  },
  {
   "cell_type": "code",
   "execution_count": null,
   "id": "1d34f939",
   "metadata": {},
   "outputs": [],
   "source": [
    "#  Écrivez du code Python ici\n",
    "\n",
    "import math\n",
    "try:\n",
    "    \n",
    "    x1= float(input(\"enter x1 :\"))\n",
    "    x2= float(input(\"enter x2 :\"))\n",
    "    y1= float(input(\"enter y1 :\"))\n",
    "    y2= float(input(\"enter y2 :\"))\n",
    "except ValueError :\n",
    "    print(\"doit saisir un nombre .\")\n",
    "    exit()\n",
    "d=math.sqrt((x2-x1)**2 + (y2-y1)**2)\n",
    "print(f\"la distance entre ces deux points est {d:.2f}\")\n"
   ]
  },
  {
   "cell_type": "markdown",
   "id": "6685b3ac",
   "metadata": {},
   "source": []
  }
 ],
 "metadata": {
  "kernelspec": {
   "display_name": "Python 3",
   "language": "python",
   "name": "python3"
  },
  "language_info": {
   "codemirror_mode": {
    "name": "ipython",
    "version": 3
   },
   "file_extension": ".py",
   "mimetype": "text/x-python",
   "name": "python",
   "nbconvert_exporter": "python",
   "pygments_lexer": "ipython3",
   "version": "3.13.7"
  }
 },
 "nbformat": 4,
 "nbformat_minor": 5
}

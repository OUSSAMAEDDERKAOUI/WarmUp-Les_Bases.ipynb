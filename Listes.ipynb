{
 "cells": [
  {
   "cell_type": "markdown",
   "id": "b44d4791",
   "metadata": {},
   "source": [
    "<center>\n",
    "<H1><span style=\"text-align: center; font-weight: bold; color: #746bb3ff;\">Les Listes</span></H1>\n",
    "</center>"
   ]
  },
  {
   "cell_type": "markdown",
   "id": "b9c93591",
   "metadata": {},
   "source": [
    "<H3><span style=\"font-weight: bold ; color: #19b7f1ff\">Les ressources: </span></H3> \n",
    "\n",
    "* [Python Lists and List Manipulation](https://realpython.com/python-lists-tuples/)\n",
    "* [Documentation Officielle de Python - Structures de données - Listes](https://docs.python.org/fr/3/tutorial/datastructures.html#more-on-lists)\n"
   ]
  },
  {
   "cell_type": "markdown",
   "id": "873352ef",
   "metadata": {},
   "source": [
    "<H3><span style=\"font-weight: bold; color: #1a8bcdff;\">Challenge 1 : La liste des notes </span></H3>\n",
    "\n",
    "<center><code>notes = [12, 4, 14, 11, 18, 13, 7, 10, 5, 9, 15, 8, 14, 16]</code></center>\n",
    "\n",
    "<span style=\"font-weight: bold; color: #e56922ff;\">Travail à faire</span>:</br>\n",
    "Écris un programme en Python qui extrait toutes les notes supérieures à la moyenne et les stocke dans une nouvelle liste."
   ]
  },
  {
   "cell_type": "code",
   "execution_count": null,
   "id": "08a09dc2",
   "metadata": {},
   "outputs": [],
   "source": [
    "def extrait(list):\n",
    "    notes_sup=[]\n",
    "    somme=0\n",
    "    for i in list :\n",
    "        somme+=i\n",
    "    moyenne=somme/len(list)\n",
    "    for j in list :\n",
    "        if j>moyenne :\n",
    "            notes_sup.append(j)\n",
    "    return notes_sup\n",
    "list= [12, 4, 14, 11, 18, 13, 7, 10, 5, 9, 15, 8, 14, 16]\n",
    "print(extrait(list))"
   ]
  },
  {
   "cell_type": "markdown",
   "id": "87452d02",
   "metadata": {},
   "source": [
    "\n",
    "<H3><span style=\"font-weight: bold; color: #1a8bcdff;\">Challenge 2 : Les mots communs</span></H3>\n",
    "\n",
    "<center><code>\n",
    "Ch1 = \"Le langage Python est très populaire\" <br>\n",
    "Ch2 = \"Python est un langage puissant\"\n",
    "        </code></center>\n",
    "\n",
    "<span style=\"font-weight: bold; color: #e56922ff;\">Travail à faire</span>:</br>\n",
    "Écris un programme en Python qui permet de regrouper dans une liste les mots communs entre deux chaînes de caractères Ch1 et Ch2."
   ]
  },
  {
   "cell_type": "code",
   "execution_count": null,
   "id": "a640e80e",
   "metadata": {},
   "outputs": [],
   "source": [
    "#  Écrivez du code Python ici\n",
    "def mots_commun(c1,c2):\n",
    "    list=[]\n",
    "    chaine1=c1.lower().split()\n",
    "    chaine2=c2.lower().split()\n",
    "    for ch1 in chaine1 :\n",
    "         if ch1 not in list :\n",
    "             if ch1 in chaine2 :\n",
    "                 list.append(ch1)\n",
    "    \n",
    "\n",
    "    return list          \n",
    "chaine1 = \"Le langage python est très populaire\" \n",
    "chaine2 = \"Python est un langage puissant  Python\"\n",
    "print(mots_commun(chaine1,chaine2))"
   ]
  },
  {
   "cell_type": "markdown",
   "id": "5d74627c",
   "metadata": {},
   "source": [
    "\n",
    "<H3><span style=\"font-weight: bold; color: #1a8bcdff;\">Challenge 3 : Manipulation et tri de listes mixtes</span></H3>\n",
    "\n",
    "<center><code>\n",
    "stock = [\"Stylo\", 25, \"Classeur\", 100, \"Crayon\", 12, \"Surligneur\", 40, \"Feutre\", 5]\n",
    "        </code></center>\n",
    "\n",
    "<span style=\"font-weight: bold; color: #e56922ff;\">Travail à faire</span>:</br>\n",
    " Écris un programme Python qui effectue les opérations suivantes à partir de la liste stock :\n",
    "\n",
    " 1. Afficher la liste initiale.\n",
    "2. Créer deux nouvelles listes :\n",
    "\n",
    "* une contenant uniquement les chaînes de caractères,\n",
    "\n",
    "* l’autre contenant uniquement les valeurs numériques.\n",
    "\n",
    "3. Trier :\n",
    "\n",
    "* la liste des chaînes en ordre croissant (alphabétique),\n",
    "\n",
    "* la liste des nombres en ordre décroissant.\n",
    "\n",
    "4. Afficher les deux listes triées."
   ]
  },
  {
   "cell_type": "code",
   "execution_count": null,
   "id": "67b9949c",
   "metadata": {},
   "outputs": [],
   "source": [
    "#  Écrivez du code Python ici\n",
    "\n",
    "import numbers\n",
    "def sort_numbers(list):\n",
    "   temp=''\n",
    "   n=len(list)\n",
    "   for i in range(0,n):\n",
    "      for j in range (0,n-i-1) :\n",
    "          if list[j]<list[j+1]:\n",
    "            temp=list[j]\n",
    "            list[j]=list[j+1]\n",
    "            list[j+1]=temp\n",
    "\n",
    "def sort_string(list):\n",
    "   temp=''\n",
    "   n=len(list)\n",
    "   for i in range(0,n):\n",
    "      for j in range (0,n-i-1) :\n",
    "          if list[j]>list[j+1]:\n",
    "            temp=list[j]\n",
    "            list[j]=list[j+1]\n",
    "            list[j+1]=temp\n",
    "            \n",
    "\n",
    "\n",
    "def manipulation(stock):\n",
    "    print(stock)\n",
    "    str=[]\n",
    "    nbr=[]\n",
    "    for el in stock :\n",
    "        if  isinstance(el,numbers.Number):\n",
    "           nbr.append(el)\n",
    "        else :\n",
    "            str.append(el)\n",
    "    print(\"Chaines de caracteres :\", str)\n",
    "    print(\"Nombres :\", nbr)\n",
    "    sort_numbers(nbr)\n",
    "    sort_string(str)\n",
    "    print(\"la liste des chaînes en ordre croissant \", str)\n",
    "    print(\"la liste des nombres en ordre décroissant :\", nbr)\n",
    "\n",
    "stock=[\"Stylo\", 25, \"Classeur\", 100, \"Crayon\", 12, \"Surligneur\", 40, \"Feutre\", 5]\n",
    "manipulation(stock)\n",
    "\n",
    "\n",
    "\n",
    "   \n",
    "\n",
    "    \n"
   ]
  },
  {
   "cell_type": "markdown",
   "id": "fe0eccef",
   "metadata": {},
   "source": [
    "\n",
    "<H3><span style=\"font-weight: bold; color: #1a8bcdff;\">Challenge 4 : Recherche d’un élément dans une liste </span></H3>\n",
    "\n",
    "<center><code>Fruits = [\"pomme\", \"banane\", \"orange\", \"kiwi\", \"mangue\"]</code></center>\n",
    "\n",
    "<span style=\"font-weight: bold; color: #e56922ff;\">Travail à faire</span>:</br>\n",
    "Créer une fonction « rechercheElement » qui a pour paramètres un élément et une liste et qui renvoie False si l’élément n’est pas dans la liste, ou l’indice de l’élément dans le cas contraire."
   ]
  },
  {
   "cell_type": "code",
   "execution_count": null,
   "id": "9a97a0fc",
   "metadata": {},
   "outputs": [],
   "source": []
  },
  {
   "cell_type": "code",
   "execution_count": null,
   "id": "b6d66015",
   "metadata": {},
   "outputs": [],
   "source": [
    "#  Écrivez du code Python ici\n",
    "def rechercheElement(element,list) :\n",
    "        if element in list :\n",
    "           return list.index(element)\n",
    "        else :\n",
    "             return False \n",
    "                \n",
    "print(rechercheElement(\"pomme\",[\"pomme\", \"banane\", \"orange\", \"kiwi\", \"mangue\"]))\n",
    "\n"
   ]
  },
  {
   "cell_type": "markdown",
   "id": "ce9ba959",
   "metadata": {},
   "source": [
    "<H3><span style=\"font-weight: bold; color: #1a8bcdff;\">Challenge 5 : Nombre d'occurrences </span></H3>\n",
    "\n",
    "<center><code>L = [7 , 23 , 5 , 23 , 7 , 19 , 23 , 12 , 29]</code></center>\n",
    "\n",
    "<span style=\"font-weight: bold; color: #e56922ff;\">Travail à faire</span>:</br>\n",
    "Écrire un algorithme en python qui renvoie le nombre d'occurrences d'un élément a dans une liste L donnée sans utiliser aucune fonction prédéfinie en Python."
   ]
  },
  {
   "cell_type": "code",
   "execution_count": null,
   "id": "fb150eca",
   "metadata": {},
   "outputs": [],
   "source": [
    "#  Écrivez du code Python ici\n",
    "def occurence(a,list):\n",
    "    count=0\n",
    "    for nbr in list:\n",
    "        if a==nbr:\n",
    "            count+=1\n",
    "    print (f\"le nombre d'occurence de {a} est : {count}\")\n",
    "    return count\n",
    "    \n",
    "list=L = [7 , 23 , 5 , 23 , 7 , 19 , 23 , 12 , 29]\n",
    "a=23\n",
    "occurence(a,list)\n"
   ]
  },
  {
   "cell_type": "markdown",
   "id": "e8fb0d93",
   "metadata": {},
   "source": []
  }
 ],
 "metadata": {
  "language_info": {
   "name": "python"
  }
 },
 "nbformat": 4,
 "nbformat_minor": 5
}

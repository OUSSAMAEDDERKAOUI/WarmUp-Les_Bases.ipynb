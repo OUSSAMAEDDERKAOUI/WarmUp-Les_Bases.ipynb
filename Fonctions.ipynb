{
 "cells": [
  {
   "cell_type": "markdown",
   "id": "21dfa672",
   "metadata": {},
   "source": [
    "<center>\n",
    "<H1><span style=\"text-align: center; font-weight: bold; color: #746bb3ff;\">Les Fonctions</span></H1>\n",
    "</center>"
   ]
  },
  {
   "cell_type": "markdown",
   "id": "4280dbf3",
   "metadata": {},
   "source": [
    "<H3><span style=\"font-weight: bold ; color: #19b7f1ff\">Les ressources: </span></H3> \n",
    "\n",
    "\n",
    "* [Python Functions](https://realpython.com/defining-your-own-python-function/#abstraction)\n",
    "* [Documentation Officielle de Python](https://docs.python.org/fr/3/tutorial/controlflow.html#defining-functions)"
   ]
  },
  {
   "cell_type": "markdown",
   "id": "e83d584f",
   "metadata": {},
   "source": [
    "<H3><span style=\"font-weight: bold; color: #1a8bcdff;\">Challenge 1 : Présentation personnalisé</span></H3>\n",
    "\n",
    "1. <span style=\"font-weight: bold; color: #e56922ff;\">Objectif</span> : </br>\n",
    "Réutiliser un programme existant (Challenge 2) en le structurant dans une fonction nommée horaire_sup.\n",
    "\n",
    "2. <span style=\"font-weight: bold; color: #e56922ff;\">Travail à faire</span>:</br>\n",
    "Réécris le programme du Challenge 2 dans une fonction appelée horaire_sup."
   ]
  },
  {
   "cell_type": "code",
   "execution_count": null,
   "id": "b3439d44",
   "metadata": {},
   "outputs": [
    {
     "name": "stdout",
     "output_type": "stream",
     "text": [
      "veuillez entrer votre nom : \n"
     ]
    }
   ],
   "source": [
    "#  Écrivez du code Python ici\n",
    "def horaire_sup():\n",
    "      print(\"veuillez entrer votre nom : \")\n",
    "      nom = input()\n",
    "      print(\"veuillez entrer votre  nombre des heures : \")\n",
    "      heures= int(input())\n",
    "      print(\"veuillez entrer le prix normal par heure : \")\n",
    "      prix = float(input())\n",
    "      \n",
    "      if heures>40 :\n",
    "          salaire= (40*prix)+((heures-40)*prix*1.5)\n",
    "      else :\n",
    "              salaire= (40*prix)\n",
    "      \n",
    "      print(f\"bonjour {nom} votre salaire de cette semmaine est {salaire}\")\n",
    "      \n",
    "horaire_sup()     "
   ]
  },
  {
   "cell_type": "markdown",
   "id": "77631c7d",
   "metadata": {},
   "source": [
    "<H3><span style=\"font-weight: bold; color: #1a8bcdff;\">Challenge 2 : Fonction calculation() – somme et différence</span></H3>\n",
    "\n",
    "1. <span style=\"font-weight: bold; color: #e56922ff;\">Objectif</span> : </br>\n",
    "Apprendre à écrire une fonction avec plusieurs paramètres et plusieurs valeurs de retour.\n",
    "\n",
    "2. <span style=\"font-weight: bold; color: #e56922ff;\">Travail à faire</span>:</br>\n",
    "Écris une fonction calculation() qui prend deux arguments et calcule leur somme ainsi que leur différence. La fonction doit ensuite retourner les deux résultats dans une seule instruction return."
   ]
  },
  {
   "cell_type": "code",
   "execution_count": null,
   "id": "323a8b4a",
   "metadata": {},
   "outputs": [],
   "source": [
    "#  Écrivez du code Python ici\n",
    "def calculation(a,b):\n",
    "    \n",
    "    s=a+b\n",
    "    d=a-b\n",
    "    return s,d\n",
    "try:\n",
    "    a=float(input(\"entrer le premier nombre : \"))\n",
    "    b=float(input(\"entrer le deuxieme nombre : \"))\n",
    "except ValueError:\n",
    "    print(\"vous devez entrer un nombre .\")\n",
    "    exit()\n",
    "print(calculation(a,b))\n"
   ]
  },
  {
   "cell_type": "markdown",
   "id": "c2081304",
   "metadata": {},
   "source": [
    "<H3><span style=\"font-weight: bold; color: #1a8bcdff;\">Challenge 3 : Mini-projets algorithmiques regroupés</span></H3>\n",
    "\n",
    "1. <span style=\"font-weight: bold; color: #e56922ff;\">Objectif</span> : </br>\n",
    "Développer plusieurs petites fonctions indépendantes, chacune ciblant une compétence précise\n",
    "\n",
    "2. <span style=\"font-weight: bold; color: #e56922ff;\">Travail à faire</span>:</br>\n",
    "- Demander à l’utilisateur de saisir un nombre entier n et afficher la factorielle de ce nombre (n!).\n",
    "- Demander à l’utilisateur un nombre entier m et afficher sa table de multiplication de 1 à 10.\n",
    "- Demander à l’utilisateur un nombre entier L et indiquer s’il s’agit d’un carré parfait.\n",
    "- Demander une chaîne de caractères à l’utilisateur, puis afficher chaque caractère un par un.\n",
    "- Demander une phrase à l’utilisateur et afficher le mot le plus long de cette phrase.\n",
    "- Demander une chaîne de caractères Ch et afficher le nombre d’occurrences de chaque caractère. Exemple : Pour Ch = “artificial intelligence developer” \n",
    "- Le programme doit afficher : Le caractère \"i\" figure 5 fois dans la chaîne Ch."
   ]
  },
  {
   "cell_type": "code",
   "execution_count": null,
   "id": "a06adf5c",
   "metadata": {},
   "outputs": [
    {
     "name": "stdout",
     "output_type": "stream",
     "text": [
      "6\n"
     ]
    },
    {
     "ename": "NameError",
     "evalue": "name 'n' is not defined",
     "output_type": "error",
     "traceback": [
      "\u001b[31m---------------------------------------------------------------------------\u001b[39m",
      "\u001b[31mNameError\u001b[39m                                 Traceback (most recent call last)",
      "\u001b[36mCell\u001b[39m\u001b[36m \u001b[39m\u001b[32mIn[1]\u001b[39m\u001b[32m, line 18\u001b[39m\n\u001b[32m     16\u001b[39m             \u001b[38;5;28mprint\u001b[39m(\u001b[33mf\u001b[39m\u001b[33m\"\u001b[39m\u001b[38;5;132;01m{\u001b[39;00mj\u001b[38;5;132;01m}\u001b[39;00m\u001b[33m * \u001b[39m\u001b[38;5;132;01m{\u001b[39;00mi\u001b[38;5;132;01m}\u001b[39;00m\u001b[33m = \u001b[39m\u001b[38;5;132;01m{\u001b[39;00mj*i\u001b[38;5;132;01m}\u001b[39;00m\u001b[33m\"\u001b[39m)\n\u001b[32m     17\u001b[39m         j+=\u001b[32m1\u001b[39m\n\u001b[32m---> \u001b[39m\u001b[32m18\u001b[39m \u001b[43mmultiplication\u001b[49m\u001b[43m(\u001b[49m\u001b[32;43m5\u001b[39;49m\u001b[43m)\u001b[49m\n\u001b[32m     20\u001b[39m \u001b[38;5;28;01mimport\u001b[39;00m\u001b[38;5;250m \u001b[39m\u001b[34;01mmath\u001b[39;00m\n\u001b[32m     21\u001b[39m \u001b[38;5;28;01mdef\u001b[39;00m\u001b[38;5;250m  \u001b[39m\u001b[34mcarre_parfait\u001b[39m(l):\n",
      "\u001b[36mCell\u001b[39m\u001b[36m \u001b[39m\u001b[32mIn[1]\u001b[39m\u001b[32m, line 12\u001b[39m, in \u001b[36mmultiplication\u001b[39m\u001b[34m(m)\u001b[39m\n\u001b[32m     10\u001b[39m \u001b[38;5;28;01mdef\u001b[39;00m\u001b[38;5;250m \u001b[39m\u001b[34mmultiplication\u001b[39m(m):\n\u001b[32m     11\u001b[39m     j=\u001b[32m1\u001b[39m\n\u001b[32m---> \u001b[39m\u001b[32m12\u001b[39m     \u001b[38;5;28;01mwhile\u001b[39;00m j<=\u001b[43mn\u001b[49m :\n\u001b[32m     13\u001b[39m         \u001b[38;5;28mprint\u001b[39m(\u001b[33mf\u001b[39m\u001b[33m\"\u001b[39m\u001b[33mla multiplication de nombre \u001b[39m\u001b[38;5;132;01m{\u001b[39;00mj\u001b[38;5;132;01m}\u001b[39;00m\u001b[33m est :\u001b[39m\u001b[33m\"\u001b[39m)\n\u001b[32m     14\u001b[39m         \u001b[38;5;28;01mfor\u001b[39;00m i \u001b[38;5;129;01min\u001b[39;00m \u001b[38;5;28mrange\u001b[39m(\u001b[32m1\u001b[39m,\u001b[32m11\u001b[39m):\n",
      "\u001b[31mNameError\u001b[39m: name 'n' is not defined"
     ]
    }
   ],
   "source": [
    "#  Écrivez du code Python ici\n",
    "\n",
    "def factorielle(n):\n",
    "    resultat=1\n",
    "    for i in range(1,n+1):\n",
    "        resultat*=i\n",
    "    return resultat\n",
    "print(factorielle(3))\n",
    "\n",
    "def multiplication(m):\n",
    "    j=1\n",
    "    while j<=n :\n",
    "        print(f\"la multiplication de nombre {j} est :\")\n",
    "        for i in range(1,11):\n",
    "            p=j*i\n",
    "            print(f\"{j} * {i} = {j*i}\")\n",
    "        j+=1\n",
    "multiplication(5)\n",
    "\n",
    "import math\n",
    "def  carre_parfait(l):\n",
    "    racine = int(math.sqrt(l))\n",
    "    if racine**2==l :\n",
    "        return f\"{l} un carré parfait.\"\n",
    "    else :\n",
    "        return f\"{l} n'est pas un carré parfait.\"\n",
    "    \n",
    "carre_parfait(16)\n",
    " \n",
    " #- Demander une chaîne de caractères à l’utilisateur, puis afficher chaque caractère un par un.\n",
    "\n",
    "def caractere(h):\n",
    "    for i in h :\n",
    "        print(i)\n",
    "\n",
    "caractere(\"oussa\")\n",
    "\n",
    "#- Demander une phrase à l’utilisateur et afficher le mot le plus long de cette phrase.\n",
    "\n",
    "def plus_long_mot(phrase):\n",
    "    mots = phrase.split()\n",
    "    print(mots)\n",
    "    count = 0\n",
    "    plus_long = ''\n",
    "    \n",
    "    for mot in mots:\n",
    "        if len(mot) > count:\n",
    "            count = len(mot)\n",
    "            plus_long = mot\n",
    "\n",
    "\n",
    "    print(plus_long)\n",
    "    return plus_long\n",
    "plus_long_mot(\"bonjour mr  oussama edderkaoui\")\n",
    "\n",
    "#- Demander une chaîne de caractères Ch et afficher le nombre d’occurrences de chaque caractère. Exemple : Pour Ch = “artificial intelligence developer” \n",
    "\n",
    "def occurrences(chaine):\n",
    "    deja_exist = []\n",
    "\n",
    "    for caractere in chaine:\n",
    "        if caractere not in deja_exist:\n",
    "            count = 0\n",
    "            for i in range(len(chaine)):\n",
    "                if chaine[i] == caractere:\n",
    "                    count += 1\n",
    "            print(f\"Le nombre d'occurrences de '{caractere}' est {count}\")\n",
    "            deja_exist.append(caractere)\n",
    "\n",
    "occurrences(\"artificial intelligence developer\")\n",
    "\n",
    "\n",
    "\n",
    "        \n",
    "\n",
    "    \n"
   ]
  }
 ],
 "metadata": {
  "kernelspec": {
   "display_name": "Python 3",
   "language": "python",
   "name": "python3"
  },
  "language_info": {
   "codemirror_mode": {
    "name": "ipython",
    "version": 3
   },
   "file_extension": ".py",
   "mimetype": "text/x-python",
   "name": "python",
   "nbconvert_exporter": "python",
   "pygments_lexer": "ipython3",
   "version": "3.13.7"
  }
 },
 "nbformat": 4,
 "nbformat_minor": 5
}
